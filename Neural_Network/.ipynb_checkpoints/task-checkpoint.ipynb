{
 "cells": [
  {
   "cell_type": "code",
   "execution_count": 1,
   "metadata": {
    "collapsed": true,
    "pycharm": {
     "is_executing": false
    }
   },
   "outputs": [],
   "source": [
    "from sklearn.linear_model import LogisticRegression\n",
    "import pandas as pd\n",
    "import numpy as np\n",
    "import tensorflow as tf\n",
    "import pickle as pk\n",
    "from sklearn.feature_extraction.text import TfidfVectorizer\n",
    "keras = tf.keras\n",
    "\n",
    "def task2(max_features=10000, depth=30):\n",
    "    with open('./Data/Task2/train/train_texts.dat', 'rb') as f:\n",
    "        train_text = pk.load(f)\n",
    "\n",
    "    with open('./Data/Task2/test/test_texts.dat', 'rb') as f:\n",
    "        test_text = pk.load(f)\n",
    "\n",
    "    vectorizer = TfidfVectorizer(max_features=max_features)\n",
    "    train_features = vectorizer.fit_transform(train_text)  # (11314, 10000)\n",
    "    test_features = vectorizer.transform(test_text)  # (7532, 10000)\n",
    "    train_labels = pd.read_csv('./Data/Task2/train/train_labels.txt', header=None).values  # 20 unique classes\n",
    "\n",
    "    train_labels = train_labels[:20,]\n",
    "    train_features = train_features[:20,]\n",
    "\n",
    "    model = keras.Sequential()\n",
    "    model.add(tf.layers.Dense(max_features, activation='relu', kernel_regularizer='l2', input_shape=(max_features,)))\n",
    "\n",
    "    for width in np.linspace(max_features, 20, depth).astype(np.int):\n",
    "        model.add(tf.layers.Dense(width, activation='relu', kernel_regularizer='l2'))\n",
    "\n",
    "    model.add(tf.layers.Dense(20, activation='softmax', kernel_regularizer='l2'))\n",
    "\n",
    "    model.compile(optimizer='adam', loss=tf.losses.log_loss, metrics=['accuracy', tf.losses.log_loss])\n",
    "    model.fit(train_features, train_labels, batch_size=32, epochs=200, validation_split=0.2)\n"
   ]
  },
  {
   "cell_type": "code",
   "execution_count": null,
   "metadata": {
    "pycharm": {
     "is_executing": true,
     "metadata": false,
     "name": "#%%\n"
    }
   },
   "outputs": [
    {
     "name": "stdout",
     "output_type": "stream",
     "text": [
      "WARNING:tensorflow:From /Users/jiayuchang/miniconda3/envs/sci/lib/python3.6/site-packages/tensorflow/python/framework/op_def_library.py:263: colocate_with (from tensorflow.python.framework.ops) is deprecated and will be removed in a future version.\n",
      "Instructions for updating:\n",
      "Colocations handled automatically by placer.\n",
      "WARNING:tensorflow:From /Users/jiayuchang/miniconda3/envs/sci/lib/python3.6/site-packages/tensorflow/python/ops/losses/losses_impl.py:514: to_float (from tensorflow.python.ops.math_ops) is deprecated and will be removed in a future version.\n",
      "Instructions for updating:\n",
      "Use tf.cast instead.\n",
      "Train on 16 samples, validate on 4 samples\n",
      "Epoch 1/200\n"
     ]
    }
   ],
   "source": [
    "task2(100, 30)\n"
   ]
  }
 ],
 "metadata": {
  "kernelspec": {
   "display_name": "Python 3",
   "language": "python",
   "name": "python3"
  },
  "language_info": {
   "codemirror_mode": {
    "name": "ipython",
    "version": 3
   },
   "file_extension": ".py",
   "mimetype": "text/x-python",
   "name": "python",
   "nbconvert_exporter": "python",
   "pygments_lexer": "ipython3",
   "version": "3.6.8"
  }
 },
 "nbformat": 4,
 "nbformat_minor": 1
}
